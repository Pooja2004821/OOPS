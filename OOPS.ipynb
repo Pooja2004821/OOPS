{
  "nbformat": 4,
  "nbformat_minor": 0,
  "metadata": {
    "colab": {
      "provenance": []
    },
    "kernelspec": {
      "name": "python3",
      "display_name": "Python 3"
    },
    "language_info": {
      "name": "python"
    }
  },
  "cells": [
    {
      "cell_type": "code",
      "execution_count": null,
      "metadata": {
        "id": "00MooBpKzxmy"
      },
      "outputs": [],
      "source": []
    },
    {
      "cell_type": "markdown",
      "source": [],
      "metadata": {
        "id": "FlXk0q_7VkZV"
      }
    },
    {
      "cell_type": "markdown",
      "source": [
        "Q1. What is Object-Oriented Programming (OOP)?\n",
        "- Object-Oriented Programming (OOP) is a programming paradigm based on the concept of objects, which can contain data (attributes or properties) and methods (functions or behaviors). It focuses on organizing code in a way that models real-world entities and their interactions.\n",
        "\n",
        "Q2. What is a class in OOP?\n",
        "- Class : A blueprint or template for creating objects.\n",
        "- Example: Car, Student, Employee.\n",
        "\n",
        "Q3. What is an object in OO?\n",
        "- Object : An instance of a class.Has its own state and behavior defined by the class.\n",
        "- Example: A specific car like myCar = Car(\"Toyota\", 2020).\n",
        "\n",
        "Q4. What is the difference between abstraction and encapsulation?\n",
        "- Abstraction\n",
        " - Definition : Hiding implementation details and showing only essential features.\n",
        "- Encapsulation\n",
        " - Definition :\tHiding the data by bundling it with the methods that operate on it.\n",
        "- Abstraction\n",
        " - Purpose :\tTo focus on what an object does rather than how it does it.\n",
        "- Encapsulation\n",
        " - Purpose : To protect the internal state of an object from unwanted changes.\n",
        "- Abstraction\n",
        " - How it's achieved : Using abstract classes, interfaces, or methods in languages like Java or Python.\n",
        "- Encapsulation\n",
        " - How it's achieved :\tUsing access modifiers like private, public, protected.\n",
        "- Abstraction\n",
        " - Example :\tYou press a button to turn on a TV — you don’t need to know the circuit inside.\n",
        "- Encapsulation  \n",
        " - Example : The TV's internal circuit is hidden (encapsulated) so you can’t accidentally break it.\n",
        "- Abstraction\n",
        " - Real-world analogy :\tDriving a car without needing to understand the engine.\n",
        "- Encapsulation\n",
        " - Example : The engine is encapsulated within the car’s hood, inaccessible without tools.\n",
        "- Abstraction\n",
        " - from abc import ABC, abstractmethod\n",
        " - class Animal(ABC):\n",
        "  - @abstractmethod\n",
        "  - def sound(self):\n",
        "   - pass\n",
        " - class Dog(Animal):\n",
        "  - def sound(self):\n",
        "    - print(\"Bark\")\n",
        "- Encapsulation\n",
        " - class BankAccount:\n",
        "    - def __init__(self, balance):\n",
        "        - self.__balance = balance  # private attribute\n",
        "    - def deposit(self, amount):\n",
        "        - if amount > 0:\n",
        "            - self.__balance += amount\n",
        "    - def get_balance(self):\n",
        "        - return self.__balance\n",
        "\n",
        "Q5.What are dunder methods in Python?\n",
        "- dunder methods (short for \"double underscore\" methods) are special methods that begin and end with double underscores — like __init__, __str__, __add__, etc.They’re also called magic methods or special methods, and they allow you to customize the behavior of your classes, especially when using built-in Python operations (like printing, adding, comparing, etc.).\n",
        "\n",
        "Q6. Explain the concept of inheritance in OOP.\n",
        "- Inheritance is an OOP concept where one class (child/subclass) inherits the properties and behaviors (methods and attributes) of another class (parent/superclass).It helps promote code reusability and organization by allowing you to build upon existing code instead of rewriting it.\n",
        "\n",
        "Q7. What is polymorphism in OOP?\n",
        "- Polymorphism means \"many forms\". In OOP, it allows objects of different classes to be treated as objects of a common superclass — especially when they share methods with the same name but different behavior.It helps write flexible and reusable code by allowing the same interface to be used for different underlying forms (data types or objects).\n",
        "\n",
        "Q8. How is encapsulation achieved in Python?\n",
        "- How Encapsulation is Achieved in Python:\n",
        "1. Using Access Modifiers:\n",
        "Modifier..........................Syntax.........................Access Level\n",
        "Public..........................self.name.............Accessible from anywhere\n",
        "Protected............self._name.........Accessible within class and subclasses\n",
        "Private........self.__name..Name mangled, not directly accessible outside class\n",
        "- Example\n",
        " - class Student:\n",
        "    - def __init__(self, name, age):\n",
        "        - self.name = name        # public\n",
        "        - self._age = age         # protected\n",
        "        - self.__marks = 90       # private\n",
        "    - def get_marks(self):\n",
        "        - return self.__marks     # getter\n",
        "    - def set_marks(self, marks):\n",
        "        - if 0 <= marks <= 100:\n",
        "            - self.__marks = marks\n",
        "        - else:\n",
        "            - print(\"Invalid marks\")\n",
        " - s = Student(\"Alice\", 21)\n",
        " - print(s.name)        \n",
        " - print(s._age)        \n",
        " - #print(s.__marks)  \n",
        " - print(s.get_marks())\n",
        " - s.set_marks(95)      \n",
        "\n",
        "Q9.What is a constructor in Python?\n",
        "- A constructor is a special method used to initialize (i.e., set up) a newly created object from a class.\n",
        "- Syntax\n",
        " - class ClassName:\n",
        "    - def __init__(self, parameters):\n",
        "        - #initialization code\n",
        "        - self.attribute = value\n",
        "\n",
        "Q10.What are class and static methods in Python?\n",
        "1. Class Methods :\n",
        " - What it is : A class method is a method that receives the class itself as its first argument instead of the instance.It is defined using the @classmethod decorator.\n",
        " - Key Point:First argument must be cls (short for class).It can access and modify class variables (shared across all instances).\n",
        " - Example :\n",
        "  - class Person:\n",
        "    - count = 0\n",
        "    - def __init__(self, name):\n",
        "        - self.name = name\n",
        "        - Person.count += 1\n",
        "    - @classmethod\n",
        "    - def get_count(cls):\n",
        "        -return cls.count\n",
        "  - print(Person.get_count())  # Output: 0\n",
        "  - p1 = Person(\"Alice\")\n",
        "  - p2 = Person(\"Bob\")\n",
        "  - print(Person.get_count())  # Output: 2\n",
        "2. Static Methods :\n",
        " - What it is : A static method does not take self or cls as its first argument.\n",
        "It behaves like a regular function, just inside a class.Defined using the @staticmethod decorator.\n",
        " - Key Point : Used for utility/helper functions related to the class but not dependent on instance or class variables.\n",
        " - Example:  \n",
        "  - class Math:\n",
        "    - @staticmethod\n",
        "    - def add(a, b):\n",
        "        - return a + b\n",
        "  - print(Math.add(5, 3))  # Output: 8\n",
        "\n",
        "Q11. What is method overloading in Python?\n",
        "- Method overloading means defining multiple methods in the same class with the same name but different number or type of parameters.In languages like Java or C++, it's built-in — but in Python, it works a little differently.\n",
        "- Python Doesn’t Support True Method Overloading : In Python, if you define multiple methods with the same name, the last one overrides all the previous ones. That’s because Python uses dynamic typing and does not check parameter types or counts at compile time.\n",
        "\n",
        "Q12. What is method overriding in OOP?\n",
        "- Method Overriding occurs when a child class (subclass) redefines a method from its parent class (superclass) with the same name, parameters, and return type.When you call the method on an object of the child class, the child’s version of the method is executed — not the parent’s.\n",
        "- Purpose of Overriding : To change or extend the behavior of a method inherited from a parent class.Enables runtime polymorphism — method calls are resolved at runtime based on the object.\n",
        "\n",
        "Q13.What is a property decorator in Python?\n",
        "- The @property decorator in Python allows you to define a method that can be accessed like an attribute. In other words, it lets you define getter methods that look like regular attributes, while still having the flexibility to add logic to them (e.g., calculating a value dynamically).\n",
        "- Why Use @property? :\n",
        " - It allows you to control access to instance variables.\n",
        " - Provides a way to add validation or computation when accessing or setting a value.\n",
        " - Encapsulates data while keeping the code intuitive and readable.\n",
        "\n",
        "Q14. Why is polymorphism important in OOP?\n",
        "- Polymorphism is one of the most powerful and important concepts in Object-Oriented Programming (OOP). It allows for more flexible, reusable, and maintainable code. Let’s break down why polymorphism is so important!\n",
        "- Key Benefits of Polymorphism in OOP:\n",
        " - Code Reusability : Polymorphism allows you to use the same method name to operate on objects of different types. This avoids writing redundant code, making the program more reusable and scalable.\n",
        "   - Example: A draw() method can be used by both Circle and Square objects, even though each class might have a different implementation of draw().\n",
        " - Flexibility and Extensibility : It provides flexibility to add new classes without modifying existing code. For example, you can introduce a new shape (e.g., Triangle) that also implements the draw() method, and the existing code can handle it without changes.\n",
        "   - Example: If we already have a drawing application with shapes, adding new shapes doesn't require changing how we draw all the current shapes.\n",
        "  - Improves Code Maintenance : Since polymorphism allows you to define methods that can operate on a wide variety of objects, it makes code easier to maintain and extend. You don’t need to write different code for every object type you encounter — just the general method works for all types.\n",
        "  - Promotes Loose Coupling : With polymorphism, objects of different types can interact with one another through common interfaces. This reduces the dependencies between components of the program, promoting loose coupling and high cohesion.\n",
        "   - Example: You can treat all shapes as Shape objects, and polymorphism ensures that the correct method is called based on the actual type of the object (like Circle, Square, etc.).\n",
        "  - Supports Runtime Polymorphism (Dynamic Dispatch): In languages like Python, polymorphism allows runtime decision-making. This means that the method to call is determined at runtime based on the object, not at compile-time, making programs more dynamic and adaptable.\n",
        "\n",
        "Q15.What is an abstract class in Python?\n",
        "- An abstract class in Python is a class that cannot be instantiated on its own. It is meant to be inherited by other classes, which must then implement its abstract methods.Abstract methods are methods that are declared in the abstract class but have no implementation. Subclasses are required to provide their own implementation of these methods.Abstract classes allow you to define common interfaces that can be shared by multiple subclasses, ensuring that they all implement certain methods, but leaving the specifics up to the subclass.\n",
        "- Key Points about Abstract Classes:\n",
        "An abstract class can contain both abstract methods (methods without implementation) and concrete methods (methods with implementation).You cannot create an instance of an abstract class directly.You must create a subclass that implements all abstract methods to instantiate an object.\n",
        "\n",
        "Q16. What are the advantages of OOP?\n",
        "1. Modularity : In OOP, programs are divided into smaller, manageable pieces called objects or classes. Each object can be developed, tested, and maintained independently.\n",
        "- Advantage: This modular structure allows for easier maintenance, debugging, and reuse of code. If a change is needed in one part of the system, you can often modify just the relevant object without affecting other parts of the system.\n",
        "2. Reusability (Code Reusability) : OOP promotes the reuse of code. Once a class is written, it can be reused across different parts of the program or even in different programs without modification.\n",
        "- Advantage: Through mechanisms like inheritance, you can extend existing classes, which reduces redundancy and minimizes the need to write duplicate code.\n",
        "- Example: If you have a Vehicle class with general properties and methods, you can create subclasses like Car and Truck that inherit and extend Vehicle's functionality without rewriting common methods.\n",
        "3. Scalability and Maintainability : OOP helps in scaling applications by promoting modular design. Each object can be developed and maintained independently.\n",
        "- Advantage: As a system grows, adding new features or making changes becomes easier. Since objects are loosely coupled and interact through well-defined interfaces, scaling and extending the system is more straightforward.\n",
        "4. Encapsulation : Encapsulation is the concept of bundling data and the methods that operate on that data into a single unit called a class. This also includes restricting direct access to certain attributes or methods, allowing controlled access.\n",
        "- Advantage: It helps in protecting the internal state of objects and hiding complexity. This leads to more robust, secure code because internal data is hidden from outside manipulation, and you can only modify it through controlled methods.\n",
        "5. Inheritance : Inheritance allows one class (child or subclass) to inherit properties and behaviors from another class (parent or superclass). This facilitates code reuse and the creation of hierarchical relationships.\n",
        "- Advantage: Inheritance helps in reducing redundancy. Instead of redefining the same methods in multiple places, you can inherit them from a common base class. It also helps in creating specialized versions of a general class.\n",
        "6. Polymorphism : Polymorphism means many forms. It allows objects of different classes to be treated as objects of a common superclass, particularly when they implement the same method or interface.\n",
        "- Advantage: Polymorphism improves flexibility and extensibility. For example, you can use the same method name to perform different tasks depending on the object that calls it. This makes the code more adaptable and easier to extend without changing the existing codebase.\n",
        "7. Abstraction : Abstraction involves hiding the complex implementation details and showing only the necessary features to the user. It allows users to interact with objects at a high level.\n",
        "- Advantage: It simplifies the user interface and improves usability by only exposing essential functionality and hiding the complexity behind the scenes. For example, you don’t need to know how a car’s engine works to drive it.\n",
        "8. Improved Collaboration : OOP’s modular design allows developers to work on different parts of the system independently. Each object can be designed, developed, and tested by different teams or individuals.\n",
        "- Advantage: This promotes teamwork and makes it easier for developers to divide work efficiently in large projects.\n",
        "9. Security : OOP allows you to restrict access to certain parts of an object through encapsulation and the use of access modifiers (public, private, protected).\n",
        "- Advantage: This enhances security because it limits direct access to the internal workings of objects and ensures that the data is accessed and modified only through safe and defined interfaces.\n",
        "10. Easier Debugging and Testing : With its modular structure, OOP makes it easier to isolate and test individual objects or components of the system.\n",
        "- Advantage: Unit testing becomes simpler because you can test objects independently. If there’s an issue, you know which object to focus on, making the debugging process faster and more efficient.\n",
        "\n",
        "Q17. What is the difference between a class variable and an instance variable?\n",
        "1. Definition:\n",
        "- Class Variable : A class variable is a variable that is shared by all instances of a class. It is defined inside the class, but outside of any instance methods. All instances of the class can access and modify the class variable.It is common to all instances of the class and is usually used for values that are shared across all instances.\n",
        "- Instance Variable : An instance variable is a variable that is specific to an instance of the class. It is defined inside an instance method, typically inside the __init__() constructor method. Each object (instance) has its own copy of the instance variable.It is unique to each instance of the class, meaning different objects can have different values for their instance variables.\n",
        "2. Scope :\n",
        "- Class Variable : Shared across all instances of the class. Changes made to a class variable affect all instances that access that variable.\n",
        "- Instance Variable : Unique to each instance of the class. Changes to an instance variable do not affect other instances.\n",
        "3. Declaration :\n",
        "- Class Variable : Declared directly inside the class, but outside any methods (including the constructor __init__).\n",
        "- Instance Variable : Declared inside a method, typically the __init__ constructor, using self.\n",
        "4. Memory Allocation:\n",
        "- Class Variable : Allocated only once in memory, and all instances share the same memory location for the class variable.\n",
        "- Instance Variable : Each instance of the class gets its own memory allocation for instance variables.\n",
        "\n",
        "Q18.What is multiple inheritance in Python?\n",
        "- Multiple inheritance in Python refers to a feature where a class can inherit attributes and methods from more than one parent class. In other words, a child class can derive from multiple parent classes, allowing it to access the functionality of all parent classes.\n",
        "- Key Points About Multiple Inheritance:\n",
        " - Inheritance from Multiple Classes : A class can inherit from multiple classes at the same time, thus combining the functionalities of all the parent classes.\n",
        " - Method Resolution Order (MRO) : When using multiple inheritance, Python follows a specific order to resolve method calls, known as Method Resolution Order (MRO). This order determines which method to invoke when a method is called on an instance of the child class.\n",
        " - Diamond Problem : In multiple inheritance, if two parent classes inherit from a common ancestor, it can lead to a situation called the diamond problem. Python resolves this problem using the C3 Linearization algorithm, which ensures that the classes are called in a consistent order.\n",
        "\n",
        "Q19. Explain the purpose of ‘’__str__’ and ‘__repr__’ ‘ methods in Python.\n",
        "1. __str__ Method : The __str__ method is used to define a human-readable or informal string representation of an object. It is called by the built-in str() function and when you use print() on an object. The goal of the __str__ method is to provide a readable and user-friendly description of the object.\n",
        "- Purpose: To return a string that is easy to understand for end users.\n",
        "- Called by: str() and print().\n",
        "2. __repr__ Method : The __repr__ method is used to define a formal or developer-friendly string representation of an object. Its goal is to provide an unambiguous and detailed description of the object, ideally something that could be used to recreate the object (i.e., if possible). It is called by the built-in repr() function and is used in debugging and logging. The output of __repr__ is meant for developers or debugging, rather than end users.\n",
        "- Purpose: To return a string that is more suitable for debugging, and ideally should provide enough information to recreate the object.\n",
        "- Called by: repr() and when the object is evaluated interactively in the Python shell (e.g., >>>).\n",
        "\n",
        "Q20.What is the significance of the ‘super()’ function in Python?\n",
        "- The super() function in Python is a built-in function that allows you to call methods from a parent class (superclass) within a child class (subclass), without directly referencing the parent class. It is often used in the context of inheritance to enable method overriding and calling parent class methods.\n",
        "- Significance and Purpose of super()\n",
        " - Access Parent Class Methods : super() provides a way to call methods from the parent class. This is useful when you want to extend or modify the behavior of the parent class's method in the child class.\n",
        " - Avoid Hardcoding Parent Class Names : Using super() allows you to call the parent class method without explicitly referring to the parent class's name. This is helpful when you have multiple levels of inheritance and want the child class to automatically call the correct parent class method, even if the class hierarchy changes.\n",
        " - Supports Multiple Inheritance : In case of multiple inheritance, super() works well with Python’s Method Resolution Order (MRO). It ensures that the correct method is called from the parent class, even if there are multiple parent classes.\n",
        " - Improves Code Maintainability : By using super(), you avoid explicitly naming parent classes, which improves the maintainability and readability of your code. If the inheritance hierarchy changes, the code still works without modifications.\n",
        "\n",
        "Q21.What is the significance of the __del__ method in Python?\n",
        "- The __del__ method in Python is a special method known as a destructor. It is used to define behavior when an object is about to be destroyed or deleted. This method is automatically invoked when an object is garbage collected, which happens when there are no more references to the object and it is ready to be removed from memory.\n",
        "- Significance of the __del__ Method:\n",
        " - Resource Cleanup :The primary purpose of __del__ is to perform any necessary cleanup when an object is being deleted, such as closing files, releasing network connections, or deallocating memory for objects that hold external resources (like database connections, file handles, etc.).\n",
        " - Automatic Deletion : When an object is no longer needed and is about to be garbage collected (i.e., there are no more references to the object), Python will call the __del__ method to allow the object to clean up before it is destroyed.\n",
        " - Preventing Memory Leaks : By defining a __del__ method, you can ensure that resources are freed when an object is deleted, helping to prevent memory leaks or other resource-related issues.\n",
        "\n",
        "Q22.What is the difference between @staticmethod and @classmethod in Python?\n",
        "1. @staticmethod : A @staticmethod is a method that does not take a reference to the instance (self) or class (cls) as its first argument. It behaves like a regular function, but it belongs to the class's namespace.It is typically used when the method doesn't need access to any instance or class-level attributes or methods, and the logic it encapsulates is not dependent on the state of the class or instance.\n",
        "- Key Features : No access to instance (self) or class (cls).Cannot modify the state of the object or class.Can be called on the class or an instance.Useful for utility functions that are logically related to the class but don't need access to the instance or class state.\n",
        "- Syntax :\n",
        " - class MyClass:\n",
        "    - @staticmethod\n",
        "    - def my_static_method():\n",
        "        - print(\"This is a static method.\")\n",
        " - #Usage\n",
        " - MyClass.my_static_method()  # Called on the class\n",
        " - obj = MyClass()\n",
        " - obj.my_static_method()  # Called on an instance\n",
        "2. @classmethod :\n",
        "- A @classmethod is a method that takes a reference to the class (cls) as its first argument, rather than the instance (self). It is bound to the class and can access and modify class-level attributes, but not instance-level attributes.\n",
        "It is typically used when you want to modify class state or when the method needs to work with the class itself, rather than an individual instance.\n",
        "- Key Features : Takes the class (cls) as the first argument, rather than the instance (self).Can modify class-level attributes and call other class methods, but cannot modify instance-specific attributes.Can be called on the class or an instance.Commonly used for factory methods or class-level operations that need access to the class but not the instance.\n",
        "- Syntax :\n",
        " - class MyClass:\n",
        "    - class_variable = 0\n",
        "    - @classmethod\n",
        "    - def my_class_method(cls):\n",
        "        - cls.class_variable += 1\n",
        "        - print(f\"Class variable: {cls.class_variable}\")\n",
        " - #Usage\n",
        " - MyClass.my_class_method()  # Called on the class\n",
        " - obj = MyClass()\n",
        " - obj.my_class_method()  # Called on an instance\n",
        "\n",
        "\n",
        "\n",
        "\n",
        "\n",
        "\n",
        "\n",
        "\n",
        "\n",
        "\n",
        "\n",
        "\n",
        "\n",
        "\n",
        "\n",
        "\n",
        "\n",
        "\n",
        "\n",
        "\n",
        "\n",
        "\n",
        "\n",
        "\n",
        "\n"
      ],
      "metadata": {
        "id": "V3-LHJ_8z7LD"
      }
    },
    {
      "cell_type": "markdown",
      "source": [
        "Q23.  How does polymorphism work in Python with inheritance?\n",
        "- What is Polymorphism? :\n",
        " - Polymorphism means \"many forms\". In programming, it refers to the ability of different classes to respond to the same method call in different ways.\n",
        "- How It Works with Inheritance? :\n",
        " - In Python, when a class inherits from another class, it can override methods from the parent class. Polymorphism allows you to use these child class methods interchangeably using the parent class reference.\n",
        "- Example :\n",
        " - class Animal:\n",
        "    - def speak(self):\n",
        "        - return \"Some sound\"\n",
        "\n",
        " - class Dog(Animal):\n",
        "    - def speak(self):\n",
        "        - return \"Woof!\"\n",
        " - class Cat(Animal):\n",
        "    - def speak(self):\n",
        "        - return \"Meow!\"\n",
        " - #Polymorphism in action\n",
        " - def make_animal_speak(animal):\n",
        "    - print(animal.speak())\n",
        " - dog = Dog()\n",
        " - cat = Cat()\n",
        " - make_animal_speak(dog)  # Woof!\n",
        " - make_animal_speak(cat)  # Meow!\n",
        "\n",
        "Q24.  What is method chaining in Python OOP?\n",
        "- Method chaining in Python (and in OOP in general) is a technique where you call multiple methods on the same object in a single line of code. It helps make the code cleaner and more fluent, especially when performing a sequence of operations.\n",
        "- How Method Chaining Works? :\n",
        " - It relies on each method returning self, so that the next method can be called on the same object.\n",
        "- Example :\n",
        "  - class Person:\n",
        "    - def __init__(self, name):\n",
        "        - self.name = name\n",
        "        - self.age = None\n",
        "        - self.city = None\n",
        "    - def set_age(self, age):\n",
        "        - self.age = age\n",
        "        - return self\n",
        "    - def set_city(self, city):\n",
        "        - self.city = city\n",
        "        - return self\n",
        "    - def show_info(self):\n",
        "        - print(f\"Name: {self.name}, Age: {self.age}, City: {self.city}\")\n",
        "        - return self\n",
        " - #Method chaining in action\n",
        " - person = Person(\"Alice\")\n",
        " - person.set_age(25).set_city(\"New York\").show_info()\n",
        "\n",
        "Q25. What is the purpose of the __call__ method in Python?\n",
        "- The __call__ method in Python is a special (magic/dunder) method that allows an instance of a class to be called like a function.\n",
        "- Purpose of __call__ :\n",
        " - It lets you define what should happen when you \"call\" an object as if it were a function.\n",
        "- Example :\n",
        "  - class Greeter:\n",
        "    - def __init__(self, name):\n",
        "        - self.name = name\n",
        "    - def __call__(self, greeting):\n",
        "        - return f\"{greeting}, {self.name}!\"\n",
        " - #Using the class\n",
        " - greet = Greeter(\"Alice\")\n",
        " - #Object used like a function\n",
        " - print(greet(\"Hello\"))  # Output: Hello, Alice!\n",
        "\n",
        "\n",
        "\n"
      ],
      "metadata": {
        "id": "i1pwjSXYVnd3"
      }
    },
    {
      "cell_type": "code",
      "source": [
        "#Practical Questions\n",
        "#Q1.Create a parent class Animal with a method speak() that prints a generic message. Create a child class Dog\n",
        "#that overrides the speak() method to print \"Bark!\"\n",
        "# Parent class\n",
        "class Animal:\n",
        "    def speak(self):\n",
        "        print(\"The animal makes a sound.\")\n",
        "\n",
        "# Child class\n",
        "class Dog(Animal):\n",
        "    def speak(self):\n",
        "        print(\"Bark!\")\n",
        "\n",
        "# Testing the classes\n",
        "generic_animal = Animal()\n",
        "generic_animal.speak()  # Output: The animal makes a sound.\n",
        "\n",
        "dog = Dog()\n",
        "dog.speak()  # Output: Bark!\n"
      ],
      "metadata": {
        "colab": {
          "base_uri": "https://localhost:8080/"
        },
        "id": "PBTUFTtrY5ya",
        "outputId": "af629e14-5849-45d5-d606-9ef0624ad965"
      },
      "execution_count": 1,
      "outputs": [
        {
          "output_type": "stream",
          "name": "stdout",
          "text": [
            "The animal makes a sound.\n",
            "Bark!\n"
          ]
        }
      ]
    },
    {
      "cell_type": "code",
      "source": [
        "#Q2.Write a program to create an abstract class Shape with a method area(). Derive classes Circle and Rectangle\n",
        "#from it and implement the area() method in both.\n",
        "from abc import ABC, abstractmethod\n",
        "import math\n",
        "\n",
        "# Abstract Base Class\n",
        "class Shape(ABC):\n",
        "    @abstractmethod\n",
        "    def area(self):\n",
        "        pass\n",
        "\n",
        "# Derived class: Circle\n",
        "class Circle(Shape):\n",
        "    def __init__(self, radius):\n",
        "        self.radius = radius\n",
        "\n",
        "    def area(self):\n",
        "        return math.pi * self.radius ** 2\n",
        "\n",
        "# Derived class: Rectangle\n",
        "class Rectangle(Shape):\n",
        "    def __init__(self, length, width):\n",
        "        self.length = length\n",
        "        self.width = width\n",
        "\n",
        "    def area(self):\n",
        "        return self.length * self.width\n",
        "\n",
        "# Testing the classes\n",
        "circle = Circle(5)\n",
        "rectangle = Rectangle(4, 6)\n",
        "\n",
        "print(f\"Circle Area: {circle.area():.2f}\")      # Output: Circle Area: 78.54\n",
        "print(f\"Rectangle Area: {rectangle.area():.2f}\")  # Output: Rectangle Area: 24.00\n"
      ],
      "metadata": {
        "colab": {
          "base_uri": "https://localhost:8080/"
        },
        "id": "bplnsrZuZQ-S",
        "outputId": "603af821-9d84-49b9-c77c-ecc647e7c7c1"
      },
      "execution_count": 2,
      "outputs": [
        {
          "output_type": "stream",
          "name": "stdout",
          "text": [
            "Circle Area: 78.54\n",
            "Rectangle Area: 24.00\n"
          ]
        }
      ]
    },
    {
      "cell_type": "code",
      "source": [
        "#Q3.Implement a multi-level inheritance scenario where a class Vehicle has an attribute type. Derive a class Car\n",
        "#and further derive a class ElectricCar that adds a battery attribute.\n",
        "# Base class\n",
        "class Vehicle:\n",
        "    def __init__(self, vehicle_type):\n",
        "        self.vehicle_type = vehicle_type\n",
        "\n",
        "    def show_type(self):\n",
        "        print(f\"Vehicle type: {self.vehicle_type}\")\n",
        "\n",
        "# First level derived class\n",
        "class Car(Vehicle):\n",
        "    def __init__(self, vehicle_type, brand):\n",
        "        super().__init__(vehicle_type)\n",
        "        self.brand = brand\n",
        "\n",
        "    def show_brand(self):\n",
        "        print(f\"Car brand: {self.brand}\")\n",
        "\n",
        "# Second level derived class\n",
        "class ElectricCar(Car):\n",
        "    def __init__(self, vehicle_type, brand, battery_capacity):\n",
        "        super().__init__(vehicle_type, brand)\n",
        "        self.battery_capacity = battery_capacity\n",
        "\n",
        "    def show_battery(self):\n",
        "        print(f\"Battery capacity: {self.battery_capacity} kWh\")\n",
        "\n",
        "# Testing the classes\n",
        "tesla = ElectricCar(\"Four Wheeler\", \"Tesla\", 75)\n",
        "\n",
        "tesla.show_type()       # Output: Vehicle type: Four Wheeler\n",
        "tesla.show_brand()      # Output: Car brand: Tesla\n",
        "tesla.show_battery()    # Output: Battery capacity: 75 kWh\n"
      ],
      "metadata": {
        "colab": {
          "base_uri": "https://localhost:8080/"
        },
        "id": "LWpke4MUZdqx",
        "outputId": "ab250670-4a1b-46ab-ddaa-2ea799f453d3"
      },
      "execution_count": 3,
      "outputs": [
        {
          "output_type": "stream",
          "name": "stdout",
          "text": [
            "Vehicle type: Four Wheeler\n",
            "Car brand: Tesla\n",
            "Battery capacity: 75 kWh\n"
          ]
        }
      ]
    },
    {
      "cell_type": "code",
      "source": [
        "#Q4.Demonstrate polymorphism by creating a base class Bird with a method fly(). Create two derived classes\n",
        "#Sparrow and Penguin that override the fly() method.\n",
        "# Base class\n",
        "class Bird:\n",
        "    def fly(self):\n",
        "        print(\"This bird can fly.\")\n",
        "\n",
        "# Derived class: Sparrow\n",
        "class Sparrow(Bird):\n",
        "    def fly(self):\n",
        "        print(\"Sparrow flies high in the sky.\")\n",
        "\n",
        "# Derived class: Penguin\n",
        "class Penguin(Bird):\n",
        "    def fly(self):\n",
        "        print(\"Penguins can't fly, but they swim really well.\")\n",
        "\n",
        "# Polymorphism in action\n",
        "def make_bird_fly(bird):\n",
        "    bird.fly()\n",
        "\n",
        "# Create instances\n",
        "sparrow = Sparrow()\n",
        "penguin = Penguin()\n",
        "\n",
        "# Call fly() using polymorphism\n",
        "make_bird_fly(sparrow)  # Output: Sparrow flies high in the sky.\n",
        "make_bird_fly(penguin)  # Output: Penguins can't fly, but they swim really well.\n"
      ],
      "metadata": {
        "colab": {
          "base_uri": "https://localhost:8080/"
        },
        "id": "ZVP_EFBzZuu1",
        "outputId": "ea6e5d20-27d0-4c31-94b0-1a7728b99217"
      },
      "execution_count": 4,
      "outputs": [
        {
          "output_type": "stream",
          "name": "stdout",
          "text": [
            "Sparrow flies high in the sky.\n",
            "Penguins can't fly, but they swim really well.\n"
          ]
        }
      ]
    },
    {
      "cell_type": "code",
      "source": [
        "#Q5.Write a program to demonstrate encapsulation by creating a class BankAccount with private attributes\n",
        "#balance and methods to deposit, withdraw, and check balance.\n",
        "class BankAccount:\n",
        "    def __init__(self, initial_balance=0):\n",
        "        self.__balance = initial_balance  # Private attribute\n",
        "\n",
        "    def deposit(self, amount):\n",
        "        if amount > 0:\n",
        "            self.__balance += amount\n",
        "            print(f\"Deposited ₹{amount}\")\n",
        "        else:\n",
        "            print(\"Deposit amount must be positive.\")\n",
        "\n",
        "    def withdraw(self, amount):\n",
        "        if 0 < amount <= self.__balance:\n",
        "            self.__balance -= amount\n",
        "            print(f\"Withdrew ₹{amount}\")\n",
        "        else:\n",
        "            print(\"Insufficient balance or invalid amount.\")\n",
        "\n",
        "    def check_balance(self):\n",
        "        print(f\"Current Balance: ₹{self.__balance}\")\n",
        "\n",
        "# Testing the class\n",
        "account = BankAccount(1000)\n",
        "\n",
        "account.check_balance()  # ₹1000\n",
        "account.deposit(500)     # Deposited ₹500\n",
        "account.withdraw(300)    # Withdrew ₹300\n",
        "account.check_balance()  # ₹1200\n",
        "\n",
        "# Trying to access the private attribute directly (won't work)\n",
        "# print(account.__balance)  # AttributeError\n"
      ],
      "metadata": {
        "colab": {
          "base_uri": "https://localhost:8080/"
        },
        "id": "IWwEW68UZ7o6",
        "outputId": "5cde06d5-2728-46e4-bb6b-39217b5271a3"
      },
      "execution_count": 5,
      "outputs": [
        {
          "output_type": "stream",
          "name": "stdout",
          "text": [
            "Current Balance: ₹1000\n",
            "Deposited ₹500\n",
            "Withdrew ₹300\n",
            "Current Balance: ₹1200\n"
          ]
        }
      ]
    },
    {
      "cell_type": "code",
      "source": [
        "#Q6.Demonstrate runtime polymorphism using a method play() in a base class Instrument. Derive classes Guitar\n",
        "#and Piano that implement their own version of play().\n",
        "# Base class\n",
        "class Instrument:\n",
        "    def play(self):\n",
        "        print(\"Playing an instrument...\")\n",
        "\n",
        "# Derived class: Guitar\n",
        "class Guitar(Instrument):\n",
        "    def play(self):\n",
        "        print(\"Strumming the guitar \")\n",
        "\n",
        "# Derived class: Piano\n",
        "class Piano(Instrument):\n",
        "    def play(self):\n",
        "        print(\"Playing the piano \")\n",
        "\n",
        "# Polymorphic function\n",
        "def start_performance(instrument):\n",
        "    instrument.play()\n",
        "\n",
        "# Create instances\n",
        "guitar = Guitar()\n",
        "piano = Piano()\n",
        "\n",
        "# Runtime polymorphism: same method call, different behavior\n",
        "start_performance(guitar)  # Output: Strumming the guitar\n",
        "start_performance(piano)   # Output: Playing the piano\n"
      ],
      "metadata": {
        "colab": {
          "base_uri": "https://localhost:8080/"
        },
        "id": "QEuSNx-0aEww",
        "outputId": "407b9f9b-8af6-4302-d80f-b15e312ebf7a"
      },
      "execution_count": 7,
      "outputs": [
        {
          "output_type": "stream",
          "name": "stdout",
          "text": [
            "Strumming the guitar \n",
            "Playing the piano \n"
          ]
        }
      ]
    },
    {
      "cell_type": "code",
      "source": [
        "#Q7.Create a class MathOperations with a class method add_numbers() to add two numbers and a static\n",
        "#method subtract_numbers() to subtract two numbers.\n",
        "class MathOperations:\n",
        "    @classmethod\n",
        "    def add_numbers(cls, a, b):\n",
        "        return a + b\n",
        "\n",
        "    @staticmethod\n",
        "    def subtract_numbers(a, b):\n",
        "        return a - b\n",
        "\n",
        "# Testing the methods\n",
        "sum_result = MathOperations.add_numbers(10, 5)\n",
        "diff_result = MathOperations.subtract_numbers(10, 5)\n",
        "\n",
        "print(f\"Sum: {sum_result}\")       # Output: Sum: 15\n",
        "print(f\"Difference: {diff_result}\")  # Output: Difference: 5\n"
      ],
      "metadata": {
        "colab": {
          "base_uri": "https://localhost:8080/"
        },
        "id": "aWEJCf-1aO3u",
        "outputId": "f386641a-2b7b-4cfc-9118-8f19fbcd5de9"
      },
      "execution_count": 8,
      "outputs": [
        {
          "output_type": "stream",
          "name": "stdout",
          "text": [
            "Sum: 15\n",
            "Difference: 5\n"
          ]
        }
      ]
    },
    {
      "cell_type": "code",
      "source": [
        "#Q8.Implement a class Person with a class method to count the total number of persons created.\n",
        "class Person:\n",
        "    # Class variable to keep track of the total number of persons\n",
        "    total_persons = 0\n",
        "\n",
        "    def __init__(self, name, age):\n",
        "        self.name = name\n",
        "        self.age = age\n",
        "        # Increment the count each time a new instance is created\n",
        "        Person.total_persons += 1\n",
        "\n",
        "    @classmethod\n",
        "    def count_persons(cls):\n",
        "        # Class method to return the total number of persons created\n",
        "        return cls.total_persons\n",
        "\n",
        "# Testing the class\n",
        "person1 = Person(\"Alice\", 25)\n",
        "person2 = Person(\"Bob\", 30)\n",
        "person3 = Person(\"Charlie\", 35)\n",
        "\n",
        "# Using the class method to count the total number of persons\n",
        "print(f\"Total number of persons created: {Person.count_persons()}\")  # Output: 3\n"
      ],
      "metadata": {
        "colab": {
          "base_uri": "https://localhost:8080/"
        },
        "id": "KONdZxUZaerS",
        "outputId": "6739e7f0-bb1f-4158-d49a-05e7e20b2469"
      },
      "execution_count": 9,
      "outputs": [
        {
          "output_type": "stream",
          "name": "stdout",
          "text": [
            "Total number of persons created: 3\n"
          ]
        }
      ]
    },
    {
      "cell_type": "code",
      "source": [
        "#Q9.Write a class Fraction with attributes numerator and denominator. Override the str method to display the\n",
        "#fraction as \"numerator/denominator\".\n",
        "class Fraction:\n",
        "    def __init__(self, numerator, denominator):\n",
        "        self.numerator = numerator\n",
        "        self.denominator = denominator\n",
        "\n",
        "    # Override the __str__ method to display the fraction in the form \"numerator/denominator\"\n",
        "    def __str__(self):\n",
        "        return f\"{self.numerator}/{self.denominator}\"\n",
        "\n",
        "# Testing the class\n",
        "fraction1 = Fraction(3, 4)\n",
        "fraction2 = Fraction(5, 8)\n",
        "\n",
        "print(f\"Fraction 1: {fraction1}\")  # Output: Fraction 1: 3/4\n",
        "print(f\"Fraction 2: {fraction2}\")  # Output: Fraction 2: 5/8\n"
      ],
      "metadata": {
        "colab": {
          "base_uri": "https://localhost:8080/"
        },
        "id": "3lotff2Uap18",
        "outputId": "0f99f041-e550-43cb-bb66-f97f4542ceb3"
      },
      "execution_count": 10,
      "outputs": [
        {
          "output_type": "stream",
          "name": "stdout",
          "text": [
            "Fraction 1: 3/4\n",
            "Fraction 2: 5/8\n"
          ]
        }
      ]
    },
    {
      "cell_type": "code",
      "source": [
        "#Q10.Demonstrate operator overloading by creating a class Vector and overriding the add method to add two\n",
        "#vectors.\n",
        "class Vector:\n",
        "    def __init__(self, x, y):\n",
        "        self.x = x\n",
        "        self.y = y\n",
        "\n",
        "    # Overload the + operator by overriding the __add__ method\n",
        "    def __add__(self, other):\n",
        "        if isinstance(other, Vector):\n",
        "            return Vector(self.x + other.x, self.y + other.y)\n",
        "        return NotImplemented\n",
        "\n",
        "    # Method to display the vector\n",
        "    def __str__(self):\n",
        "        return f\"({self.x}, {self.y})\"\n",
        "\n",
        "# Testing the Vector class and operator overloading\n",
        "vector1 = Vector(1, 2)\n",
        "vector2 = Vector(3, 4)\n",
        "\n",
        "result_vector = vector1 + vector2  # Using the overloaded + operator\n",
        "\n",
        "print(f\"Vector 1: {vector1}\")  # Output: Vector 1: (1, 2)\n",
        "print(f\"Vector 2: {vector2}\")  # Output: Vector 2: (3, 4)\n",
        "print(f\"Result of adding: {result_vector}\")  # Output: Result of adding: (4, 6)\n"
      ],
      "metadata": {
        "colab": {
          "base_uri": "https://localhost:8080/"
        },
        "id": "Xkxdn2yDazB2",
        "outputId": "269fb0a0-b6ba-4120-a5e7-3882a2f5b300"
      },
      "execution_count": 11,
      "outputs": [
        {
          "output_type": "stream",
          "name": "stdout",
          "text": [
            "Vector 1: (1, 2)\n",
            "Vector 2: (3, 4)\n",
            "Result of adding: (4, 6)\n"
          ]
        }
      ]
    },
    {
      "cell_type": "code",
      "source": [
        "#Q11.Create a class Person with attributes name and age. Add a method greet() that prints \"Hello, my name is\n",
        "#{name} and I am {age} years old.\"\n",
        "class Person:\n",
        "    def __init__(self, name, age):\n",
        "        self.name = name\n",
        "        self.age = age\n",
        "\n",
        "    # Method to greet and introduce the person\n",
        "    def greet(self):\n",
        "        print(f\"Hello, my name is {self.name} and I am {self.age} years old.\")\n",
        "\n",
        "# Testing the class\n",
        "person1 = Person(\"Alice\", 25)\n",
        "person2 = Person(\"Bob\", 30)\n",
        "\n",
        "# Calling the greet method\n",
        "person1.greet()  # Output: Hello, my name is Alice and I am 25 years old.\n",
        "person2.greet()  # Output: Hello, my name is Bob and I am 30 years old.\n"
      ],
      "metadata": {
        "colab": {
          "base_uri": "https://localhost:8080/"
        },
        "id": "u_q-S05ea-Pp",
        "outputId": "7a694cb6-910d-45ab-b10f-ce78986fd95b"
      },
      "execution_count": 12,
      "outputs": [
        {
          "output_type": "stream",
          "name": "stdout",
          "text": [
            "Hello, my name is Alice and I am 25 years old.\n",
            "Hello, my name is Bob and I am 30 years old.\n"
          ]
        }
      ]
    },
    {
      "cell_type": "code",
      "source": [
        "#Q12.Implement a class Student with attributes name and grades. Create a method average_grade() to compute\n",
        "#the average of the grades.\n",
        "class Student:\n",
        "    def __init__(self, name, grades):\n",
        "        self.name = name\n",
        "        self.grades = grades  # A list of grades\n",
        "\n",
        "    # Method to compute the average of grades\n",
        "    def average_grade(self):\n",
        "        if len(self.grades) > 0:\n",
        "            return sum(self.grades) / len(self.grades)\n",
        "        else:\n",
        "            return 0  # Return 0 if no grades are provided\n",
        "\n",
        "# Testing the class\n",
        "student1 = Student(\"Alice\", [85, 90, 78, 92, 88])\n",
        "student2 = Student(\"Bob\", [70, 75, 80, 85])\n",
        "\n",
        "# Calling the average_grade method\n",
        "print(f\"{student1.name}'s average grade: {student1.average_grade():.2f}\")  # Output: 86.60\n",
        "print(f\"{student2.name}'s average grade: {student2.average_grade():.2f}\")  # Output: 77.50\n"
      ],
      "metadata": {
        "colab": {
          "base_uri": "https://localhost:8080/"
        },
        "id": "Z_A2vNb2bIzh",
        "outputId": "aa406b5f-0038-414a-e8cd-3225c0c29c6a"
      },
      "execution_count": 13,
      "outputs": [
        {
          "output_type": "stream",
          "name": "stdout",
          "text": [
            "Alice's average grade: 86.60\n",
            "Bob's average grade: 77.50\n"
          ]
        }
      ]
    },
    {
      "cell_type": "code",
      "source": [
        "#Q13.Create a class Rectangle with methods set_dimensions() to set the dimensions and area() to calculate the\n",
        "#area.\n",
        "class Rectangle:\n",
        "    def __init__(self):\n",
        "        self.length = 0\n",
        "        self.width = 0\n",
        "\n",
        "    # Method to set the dimensions of the rectangle\n",
        "    def set_dimensions(self, length, width):\n",
        "        self.length = length\n",
        "        self.width = width\n",
        "\n",
        "    # Method to calculate the area of the rectangle\n",
        "    def area(self):\n",
        "        return self.length * self.width\n",
        "\n",
        "# Testing the class\n",
        "rectangle1 = Rectangle()\n",
        "rectangle1.set_dimensions(5, 3)\n",
        "\n",
        "rectangle2 = Rectangle()\n",
        "rectangle2.set_dimensions(7, 2)\n",
        "\n",
        "# Calling the area method\n",
        "print(f\"Area of Rectangle 1: {rectangle1.area()}\")  # Output: 15\n",
        "print(f\"Area of Rectangle 2: {rectangle2.area()}\")  # Output: 14\n"
      ],
      "metadata": {
        "colab": {
          "base_uri": "https://localhost:8080/"
        },
        "id": "6pznrHQibTow",
        "outputId": "404072d7-15a3-42d7-c5a3-93d6d1a1e01b"
      },
      "execution_count": 14,
      "outputs": [
        {
          "output_type": "stream",
          "name": "stdout",
          "text": [
            "Area of Rectangle 1: 15\n",
            "Area of Rectangle 2: 14\n"
          ]
        }
      ]
    },
    {
      "cell_type": "code",
      "source": [
        "#Q14.Create a class Employee with a method calculate_salary() that computes the salary based on hours worked\n",
        "#and hourly rate. Create a derived class Manager that adds a bonus to the salary.\n",
        "class Employee:\n",
        "    def __init__(self, name, hours_worked, hourly_rate):\n",
        "        self.name = name\n",
        "        self.hours_worked = hours_worked\n",
        "        self.hourly_rate = hourly_rate\n",
        "\n",
        "    # Method to calculate the salary based on hours worked and hourly rate\n",
        "    def calculate_salary(self):\n",
        "        return self.hours_worked * self.hourly_rate\n",
        "\n",
        "# Derived class: Manager\n",
        "class Manager(Employee):\n",
        "    def __init__(self, name, hours_worked, hourly_rate, bonus):\n",
        "        super().__init__(name, hours_worked, hourly_rate)\n",
        "        self.bonus = bonus\n",
        "\n",
        "    # Override the calculate_salary method to add the bonus\n",
        "    def calculate_salary(self):\n",
        "        base_salary = super().calculate_salary()\n",
        "        return base_salary + self.bonus\n",
        "\n",
        "# Testing the classes\n",
        "employee1 = Employee(\"Alice\", 160, 20)  # 160 hours at $20/hour\n",
        "manager1 = Manager(\"Bob\", 160, 30, 1000)  # 160 hours at $30/hour + $1000 bonus\n",
        "\n",
        "# Calculating salary for Employee and Manager\n",
        "print(f\"{employee1.name}'s Salary: ${employee1.calculate_salary()}\")  # Output: $3200\n",
        "print(f\"{manager1.name}'s Salary: ${manager1.calculate_salary()}\")    # Output: $5800\n"
      ],
      "metadata": {
        "colab": {
          "base_uri": "https://localhost:8080/"
        },
        "id": "fel-DWIDbcNu",
        "outputId": "4a03149a-ce1c-412c-dceb-16951582489a"
      },
      "execution_count": 15,
      "outputs": [
        {
          "output_type": "stream",
          "name": "stdout",
          "text": [
            "Alice's Salary: $3200\n",
            "Bob's Salary: $5800\n"
          ]
        }
      ]
    },
    {
      "cell_type": "code",
      "source": [
        "#Q15.Create a class Product with attributes name, price, and quantity. Implement a method total_price() that\n",
        "#calculates the total price of the product.\n",
        "class Product:\n",
        "    def __init__(self, name, price, quantity):\n",
        "        self.name = name\n",
        "        self.price = price\n",
        "        self.quantity = quantity\n",
        "\n",
        "    # Method to calculate the total price of the product\n",
        "    def total_price(self):\n",
        "        return self.price * self.quantity\n",
        "\n",
        "# Testing the class\n",
        "product1 = Product(\"Laptop\", 1000, 3)  # 3 laptops at $1000 each\n",
        "product2 = Product(\"Phone\", 500, 5)    # 5 phones at $500 each\n",
        "\n",
        "# Calculating the total price for each product\n",
        "print(f\"Total price of {product1.name}: ${product1.total_price()}\")  # Output: $3000\n",
        "print(f\"Total price of {product2.name}: ${product2.total_price()}\")  # Output: $2500\n"
      ],
      "metadata": {
        "colab": {
          "base_uri": "https://localhost:8080/"
        },
        "id": "L47qpTcVbkXs",
        "outputId": "ece845d6-935b-4742-9d79-d6ecaa5cc003"
      },
      "execution_count": 16,
      "outputs": [
        {
          "output_type": "stream",
          "name": "stdout",
          "text": [
            "Total price of Laptop: $3000\n",
            "Total price of Phone: $2500\n"
          ]
        }
      ]
    },
    {
      "cell_type": "code",
      "source": [
        "#Q16.Create a class Animal with an abstract method sound(). Create two derived classes Cow and Sheep that\n",
        "#implement the sound() method.\n",
        "from abc import ABC, abstractmethod\n",
        "\n",
        "# Abstract base class Animal\n",
        "class Animal(ABC):\n",
        "    @abstractmethod\n",
        "    def sound(self):\n",
        "        pass\n",
        "\n",
        "# Derived class Cow\n",
        "class Cow(Animal):\n",
        "    def sound(self):\n",
        "        print(\"The cow says Moo!\")\n",
        "\n",
        "# Derived class Sheep\n",
        "class Sheep(Animal):\n",
        "    def sound(self):\n",
        "        print(\"The sheep says Baa!\")\n",
        "\n",
        "# Testing the classes\n",
        "cow = Cow()\n",
        "sheep = Sheep()\n",
        "\n",
        "cow.sound()  # Output: The cow says Moo!\n",
        "sheep.sound()  # Output: The sheep says Baa!\n"
      ],
      "metadata": {
        "colab": {
          "base_uri": "https://localhost:8080/"
        },
        "id": "N9ZRp5lJbuLB",
        "outputId": "de88ed0d-0bc9-4ea7-d945-044c2b3e4d2e"
      },
      "execution_count": 17,
      "outputs": [
        {
          "output_type": "stream",
          "name": "stdout",
          "text": [
            "The cow says Moo!\n",
            "The sheep says Baa!\n"
          ]
        }
      ]
    },
    {
      "cell_type": "code",
      "source": [
        "#Q17.Create a class Book with attributes title, author, and year_published. Add a method get_book_info() that\n",
        "#returns a formatted string with the book's details.\n",
        "class Book:\n",
        "    def __init__(self, title, author, year_published):\n",
        "        self.title = title\n",
        "        self.author = author\n",
        "        self.year_published = year_published\n",
        "\n",
        "    # Method to return the book details as a formatted string\n",
        "    def get_book_info(self):\n",
        "        return f\"'{self.title}' by {self.author}, published in {self.year_published}\"\n",
        "\n",
        "# Testing the class\n",
        "book1 = Book(\"To Kill a Mockingbird\", \"Harper Lee\", 1960)\n",
        "book2 = Book(\"1984\", \"George Orwell\", 1949)\n",
        "\n",
        "# Calling the get_book_info method\n",
        "print(book1.get_book_info())  # Output: 'To Kill a Mockingbird' by Harper Lee, published in 1960\n",
        "print(book2.get_book_info())  # Output: '1984' by George Orwell, published in 1949\n"
      ],
      "metadata": {
        "colab": {
          "base_uri": "https://localhost:8080/"
        },
        "id": "g5V2-Hhlb4QS",
        "outputId": "a39fb6b5-58db-42ab-c687-9eb8bb705e98"
      },
      "execution_count": 18,
      "outputs": [
        {
          "output_type": "stream",
          "name": "stdout",
          "text": [
            "'To Kill a Mockingbird' by Harper Lee, published in 1960\n",
            "'1984' by George Orwell, published in 1949\n"
          ]
        }
      ]
    },
    {
      "cell_type": "code",
      "source": [
        "#Q18.Create a class House with attributes address and price. Create a derived class Mansion that adds an\n",
        "#attribute number_of_rooms.\n",
        "class House:\n",
        "    def __init__(self, address, price):\n",
        "        self.address = address\n",
        "        self.price = price\n",
        "\n",
        "    # Method to display house details\n",
        "    def get_details(self):\n",
        "        return f\"Address: {self.address}, Price: ${self.price}\"\n",
        "\n",
        "# Derived class Mansion\n",
        "class Mansion(House):\n",
        "    def __init__(self, address, price, number_of_rooms):\n",
        "        # Call the parent class (House) constructor\n",
        "        super().__init__(address, price)\n",
        "        self.number_of_rooms = number_of_rooms\n",
        "\n",
        "    # Method to display mansion details\n",
        "    def get_details(self):\n",
        "        return f\"Address: {self.address}, Price: ${self.price}, Rooms: {self.number_of_rooms}\"\n",
        "\n",
        "# Testing the classes\n",
        "house1 = House(\"123 Main St\", 250000)\n",
        "mansion1 = Mansion(\"456 Luxury Ave\", 1000000, 10)\n",
        "\n",
        "# Displaying the details\n",
        "print(house1.get_details())  # Output: Address: 123 Main St, Price: $250000\n",
        "print(mansion1.get_details())  # Output: Address: 456 Luxury Ave, Price: $1000000, Rooms: 10\n"
      ],
      "metadata": {
        "colab": {
          "base_uri": "https://localhost:8080/"
        },
        "id": "1anJxDW7cC69",
        "outputId": "cf51d787-66f5-4daf-9c93-79b44e7780bd"
      },
      "execution_count": 19,
      "outputs": [
        {
          "output_type": "stream",
          "name": "stdout",
          "text": [
            "Address: 123 Main St, Price: $250000\n",
            "Address: 456 Luxury Ave, Price: $1000000, Rooms: 10\n"
          ]
        }
      ]
    },
    {
      "cell_type": "code",
      "source": [],
      "metadata": {
        "id": "9ZSQC4dPdPQt"
      },
      "execution_count": null,
      "outputs": []
    }
  ]
}